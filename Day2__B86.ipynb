{
 "cells": [
  {
   "cell_type": "code",
   "execution_count": null,
   "id": "00e800bd-7356-43a1-bb59-0813fdafb48e",
   "metadata": {},
   "outputs": [],
   "source": [
    "Undersatnding the variables in python\n"
   ]
  },
  {
   "cell_type": "code",
   "execution_count": 3,
   "id": "9a318b51-3700-4893-9f88-bbec9aaa7ed1",
   "metadata": {},
   "outputs": [],
   "source": [
    "x=2\n",
    "y=3"
   ]
  },
  {
   "cell_type": "code",
   "execution_count": 4,
   "id": "6fec3bce-ed2d-429f-84d7-e9b4a060712d",
   "metadata": {},
   "outputs": [
    {
     "name": "stdout",
     "output_type": "stream",
     "text": [
      "5\n"
     ]
    }
   ],
   "source": [
    "z=x+y\n",
    "print(z)"
   ]
  },
  {
   "cell_type": "code",
   "execution_count": null,
   "id": "b915a0e7-0dc6-4274-9325-fafe94055491",
   "metadata": {},
   "outputs": [],
   "source": [
    "Rules for declaring the varianbles un python"
   ]
  },
  {
   "cell_type": "code",
   "execution_count": null,
   "id": "6974355c-05c1-4859-8718-44f7ccedf45c",
   "metadata": {},
   "outputs": [],
   "source": [
    "Rule no 1 : NO NAMESPACE WHILE DECLARING THE VARIABLE NAME"
   ]
  },
  {
   "cell_type": "code",
   "execution_count": 8,
   "id": "45a42985-34d7-4f76-a28a-89eb34599fec",
   "metadata": {},
   "outputs": [
    {
     "ename": "SyntaxError",
     "evalue": "invalid syntax (2883949067.py, line 1)",
     "output_type": "error",
     "traceback": [
      "\u001b[1;36m  Cell \u001b[1;32mIn[8], line 1\u001b[1;36m\u001b[0m\n\u001b[1;33m    firs tname=\"faiyaz\"\u001b[0m\n\u001b[1;37m         ^\u001b[0m\n\u001b[1;31mSyntaxError\u001b[0m\u001b[1;31m:\u001b[0m invalid syntax\n"
     ]
    }
   ],
   "source": [
    "firs tname=\"faiyaz\""
   ]
  },
  {
   "cell_type": "code",
   "execution_count": null,
   "id": "d383506c-c372-46b9-85c1-8558fd12564b",
   "metadata": {},
   "outputs": [],
   "source": [
    "Rule no 2 : a variable should not satrt with a number **"
   ]
  },
  {
   "cell_type": "code",
   "execution_count": 9,
   "id": "5290830e-8e6f-4f3f-97ad-124fc3d8edc6",
   "metadata": {},
   "outputs": [
    {
     "ename": "SyntaxError",
     "evalue": "invalid decimal literal (2405729577.py, line 1)",
     "output_type": "error",
     "traceback": [
      "\u001b[1;36m  Cell \u001b[1;32mIn[9], line 1\u001b[1;36m\u001b[0m\n\u001b[1;33m    1name=\"nikita\"\u001b[0m\n\u001b[1;37m    ^\u001b[0m\n\u001b[1;31mSyntaxError\u001b[0m\u001b[1;31m:\u001b[0m invalid decimal literal\n"
     ]
    }
   ],
   "source": [
    "1name=\"nikita\"\n",
    "print(1name)"
   ]
  },
  {
   "cell_type": "code",
   "execution_count": 10,
   "id": "4ef2b7d8-8280-4128-9be7-c7c6b767d22a",
   "metadata": {},
   "outputs": [
    {
     "name": "stdout",
     "output_type": "stream",
     "text": [
      "likita\n"
     ]
    }
   ],
   "source": [
    "name1 = \"likita\"\n",
    "print(name1)"
   ]
  },
  {
   "cell_type": "code",
   "execution_count": null,
   "id": "cee6b1d3-fe53-4076-8aa7-82e9eba6de95",
   "metadata": {},
   "outputs": [],
   "source": [
    "Rule no 3 : A variable name should not contain any special characters"
   ]
  },
  {
   "cell_type": "code",
   "execution_count": null,
   "id": "35c7cda4-58c5-4e88-afe8-b509d670b6dc",
   "metadata": {},
   "outputs": [],
   "source": [
    "@#$%^&"
   ]
  },
  {
   "cell_type": "code",
   "execution_count": 11,
   "id": "ea97e9b3-f603-4fac-b0e2-22dd12846d51",
   "metadata": {},
   "outputs": [
    {
     "ename": "SyntaxError",
     "evalue": "invalid syntax (906991518.py, line 2)",
     "output_type": "error",
     "traceback": [
      "\u001b[1;36m  Cell \u001b[1;32mIn[11], line 2\u001b[1;36m\u001b[0m\n\u001b[1;33m    print(name@)\u001b[0m\n\u001b[1;37m               ^\u001b[0m\n\u001b[1;31mSyntaxError\u001b[0m\u001b[1;31m:\u001b[0m invalid syntax\n"
     ]
    }
   ],
   "source": [
    "name@=\"john\"\n",
    "print(name@)"
   ]
  },
  {
   "cell_type": "code",
   "execution_count": null,
   "id": "387cf8bb-f07d-4d96-a32a-216098f82acb",
   "metadata": {},
   "outputs": [],
   "source": [
    "INTRODUCTTION TO DATA TYPES IN PYTHON"
   ]
  },
  {
   "cell_type": "code",
   "execution_count": null,
   "id": "fd4ed793-f08c-41ec-b52d-01158a8d887b",
   "metadata": {},
   "outputs": [],
   "source": [
    "1. STRING ====> str\n",
    "\n",
    "2. numbers( integers ====> int/float(decimals) =====> 0.1,0.2====> float)\n",
    "\n",
    "3. lists ====> list\n",
    "\n",
    "4. tuples ====> tuple\n",
    "\n",
    "5. dictionaries  ====>  dict"
   ]
  },
  {
   "cell_type": "code",
   "execution_count": null,
   "id": "5cc50dd7-1a41-466d-aa05-2b5d920963d5",
   "metadata": {},
   "outputs": [],
   "source": [
    "CLASSIFICATION OF DATA TYPES:\n",
    "\n",
    "2 TYPES\n",
    "        1. MUTABLE ====> alter \n",
    "        2. IMMUTABLE Datatypes ====> cannot alter"
   ]
  },
  {
   "cell_type": "code",
   "execution_count": null,
   "id": "f0c65d31-0f9a-4a1f-951b-3708bf209a48",
   "metadata": {},
   "outputs": [],
   "source": [
    "INTRODUCTION TO STRING DATATYPE:\n",
    "\n",
    "DEF: STRING IS A SERIES OF CHARACTERS DECLARED IN QUOTES\n",
    "\n",
    "CLASSIFICATION: IT IS IMMUTABLE (FIXED DATATYPE)\n",
    "\n",
    "HOW TO DEFINE:\n",
    "\n",
    "1. SINGLE QUOTE\n",
    "2. DOUBLE QUOTE"
   ]
  },
  {
   "cell_type": "code",
   "execution_count": 12,
   "id": "0841aaf4-74ab-40bb-a726-e1b5ce57608a",
   "metadata": {},
   "outputs": [
    {
     "name": "stdout",
     "output_type": "stream",
     "text": [
      "prasana\n"
     ]
    }
   ],
   "source": [
    "name= 'prasana'\n",
    "print (name)"
   ]
  },
  {
   "cell_type": "code",
   "execution_count": 13,
   "id": "6f004d24-067d-4fa8-895d-4b01e90dbb7d",
   "metadata": {},
   "outputs": [
    {
     "name": "stdout",
     "output_type": "stream",
     "text": [
      "joseph\n"
     ]
    }
   ],
   "source": [
    "name= \"joseph\"\n",
    "print (name)"
   ]
  },
  {
   "cell_type": "code",
   "execution_count": null,
   "id": "141c479b-704e-455a-abe0-b2c92c7258c7",
   "metadata": {},
   "outputs": [],
   "source": [
    "INTRODUCTION TO STRING METHODS:\n",
    "\n",
    "BUILT IN PROGRAMS AVAILABLE IN PYTHON "
   ]
  },
  {
   "cell_type": "code",
   "execution_count": 14,
   "id": "88e6ea62-6761-41f4-ab22-8525a2064104",
   "metadata": {},
   "outputs": [
    {
     "data": {
      "text/plain": [
       "str"
      ]
     },
     "execution_count": 14,
     "metadata": {},
     "output_type": "execute_result"
    }
   ],
   "source": [
    "type(name)"
   ]
  },
  {
   "cell_type": "code",
   "execution_count": 15,
   "id": "e16a8074-1a99-434a-ac1e-77f611860637",
   "metadata": {},
   "outputs": [
    {
     "name": "stdout",
     "output_type": "stream",
     "text": [
      " babji alori\n"
     ]
    }
   ],
   "source": [
    "fullname = \" babji alori\"\n",
    "print (fullname)"
   ]
  },
  {
   "cell_type": "code",
   "execution_count": 16,
   "id": "1b9ac4c7-4232-4110-9449-f8b5c58cec3b",
   "metadata": {},
   "outputs": [
    {
     "name": "stdout",
     "output_type": "stream",
     "text": [
      " Babji Alori\n"
     ]
    }
   ],
   "source": [
    "print(fullname.title())"
   ]
  },
  {
   "cell_type": "code",
   "execution_count": 17,
   "id": "ec745c16-03c4-43d9-8b40-62e4f18ca270",
   "metadata": {},
   "outputs": [
    {
     "name": "stdout",
     "output_type": "stream",
     "text": [
      " BABJI ALORI\n"
     ]
    }
   ],
   "source": [
    "print(fullname.upper())"
   ]
  },
  {
   "cell_type": "code",
   "execution_count": 18,
   "id": "e841a416-6465-47f9-881e-1dd5c4671f3d",
   "metadata": {},
   "outputs": [
    {
     "name": "stdout",
     "output_type": "stream",
     "text": [
      " babji alori\n"
     ]
    }
   ],
   "source": [
    "print(fullname.lower())"
   ]
  },
  {
   "cell_type": "code",
   "execution_count": null,
   "id": "1fe62b75-3941-412c-9223-bfc38120b485",
   "metadata": {},
   "outputs": [],
   "source": []
  }
 ],
 "metadata": {
  "kernelspec": {
   "display_name": "Python 3 (ipykernel)",
   "language": "python",
   "name": "python3"
  },
  "language_info": {
   "codemirror_mode": {
    "name": "ipython",
    "version": 3
   },
   "file_extension": ".py",
   "mimetype": "text/x-python",
   "name": "python",
   "nbconvert_exporter": "python",
   "pygments_lexer": "ipython3",
   "version": "3.11.7"
  }
 },
 "nbformat": 4,
 "nbformat_minor": 5
}
