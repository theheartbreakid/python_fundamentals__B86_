{
 "cells": [
  {
   "cell_type": "code",
   "execution_count": 1,
   "id": "10d33011-04f2-4fc2-9f5e-e7761db5143a",
   "metadata": {},
   "outputs": [],
   "source": [
    "#introduction to looping statements:"
   ]
  },
  {
   "cell_type": "code",
   "execution_count": 2,
   "id": "24d50253-9a07-4ca8-83f2-559c026a17a6",
   "metadata": {},
   "outputs": [],
   "source": [
    "students=['danish','kumar','naveen','taniya','likitha','sowmya']"
   ]
  },
  {
   "cell_type": "code",
   "execution_count": 3,
   "id": "f5b47e5b-a9fa-45ae-965e-874725e92b1e",
   "metadata": {},
   "outputs": [
    {
     "name": "stdout",
     "output_type": "stream",
     "text": [
      "['danish', 'kumar', 'naveen', 'taniya', 'likitha', 'sowmya']\n"
     ]
    }
   ],
   "source": [
    "print(students)"
   ]
  },
  {
   "cell_type": "code",
   "execution_count": 4,
   "id": "481f7d94-b219-4c44-b1f4-521e7fe4c510",
   "metadata": {},
   "outputs": [],
   "source": [
    "message=f\"keep up the good work,{students[0].title()}\""
   ]
  },
  {
   "cell_type": "code",
   "execution_count": 5,
   "id": "ad93971b-f7a1-4838-9c11-b4bde4672ac0",
   "metadata": {},
   "outputs": [
    {
     "name": "stdout",
     "output_type": "stream",
     "text": [
      "keep up the good work,Danish\n"
     ]
    }
   ],
   "source": [
    "print(message)"
   ]
  },
  {
   "cell_type": "code",
   "execution_count": 6,
   "id": "9a423638-d9ff-4729-a54b-b07c47d0d5c6",
   "metadata": {},
   "outputs": [],
   "source": [
    "message=f\"keep up the good work,{students[1].title()}\""
   ]
  },
  {
   "cell_type": "code",
   "execution_count": 7,
   "id": "1e63d743-de95-4558-aec2-21f9cb3d5e5c",
   "metadata": {},
   "outputs": [
    {
     "name": "stdout",
     "output_type": "stream",
     "text": [
      "keep up the good work,Kumar\n"
     ]
    }
   ],
   "source": [
    "print(message)"
   ]
  },
  {
   "cell_type": "markdown",
   "id": "b5ad1eba-ebf9-4168-9939-a1f5ac845534",
   "metadata": {},
   "source": [
    "#GENERAL SYNTAX OF A FOR LOOP\n",
    "for tempvar in mainvar:\n",
    "    print(tempvar)"
   ]
  },
  {
   "cell_type": "code",
   "execution_count": 8,
   "id": "b4fd3204-4f23-405b-b6b0-7faccba5d7b2",
   "metadata": {},
   "outputs": [
    {
     "name": "stdout",
     "output_type": "stream",
     "text": [
      "keep up the good work, danish\n",
      "keep up the good work, kumar\n",
      "keep up the good work, naveen\n",
      "keep up the good work, taniya\n",
      "keep up the good work, likitha\n",
      "keep up the good work, sowmya\n"
     ]
    }
   ],
   "source": [
    "for x in students:\n",
    "    print(f\"keep up the good work, {x}\")"
   ]
  },
  {
   "cell_type": "code",
   "execution_count": 9,
   "id": "24cd663b-6a90-4e48-ac3c-f5cd02a3b446",
   "metadata": {},
   "outputs": [
    {
     "name": "stdout",
     "output_type": "stream",
     "text": [
      "danish\n",
      "kumar\n",
      "naveen\n",
      "taniya\n",
      "likitha\n",
      "sowmya\n"
     ]
    }
   ],
   "source": [
    "for a in students:\n",
    "    print(a)"
   ]
  },
  {
   "cell_type": "code",
   "execution_count": 10,
   "id": "d2e50cc6-fdf3-4317-beee-8e791c97e3d3",
   "metadata": {},
   "outputs": [],
   "source": [
    "#the gap is called indentation and is mandatory"
   ]
  },
  {
   "cell_type": "code",
   "execution_count": 11,
   "id": "1b0ad066-71db-4608-b83e-39097772e56a",
   "metadata": {},
   "outputs": [
    {
     "name": "stdout",
     "output_type": "stream",
     "text": [
      "keep up the good work , danish\n",
      "do submit your work of today as well  , danish\n",
      "keep up the good work , kumar\n",
      "do submit your work of today as well  , kumar\n",
      "keep up the good work , naveen\n",
      "do submit your work of today as well  , naveen\n",
      "keep up the good work , taniya\n",
      "do submit your work of today as well  , taniya\n",
      "keep up the good work , likitha\n",
      "do submit your work of today as well  , likitha\n",
      "keep up the good work , sowmya\n",
      "do submit your work of today as well  , sowmya\n"
     ]
    }
   ],
   "source": [
    "for x in students:\n",
    "    print(f\"keep up the good work , {x}\")\n",
    "    print(f\"do submit your work of today as well  , {x}\")"
   ]
  },
  {
   "cell_type": "code",
   "execution_count": 12,
   "id": "2b5d493d-ac56-432f-814b-082b577df761",
   "metadata": {},
   "outputs": [
    {
     "name": "stdout",
     "output_type": "stream",
     "text": [
      "keep up the good work , danish\n",
      "do submit your work of today as well, danish.\n",
      "\n",
      "keep up the good work , kumar\n",
      "do submit your work of today as well, kumar.\n",
      "\n",
      "keep up the good work , naveen\n",
      "do submit your work of today as well, naveen.\n",
      "\n",
      "keep up the good work , taniya\n",
      "do submit your work of today as well, taniya.\n",
      "\n",
      "keep up the good work , likitha\n",
      "do submit your work of today as well, likitha.\n",
      "\n",
      "keep up the good work , sowmya\n",
      "do submit your work of today as well, sowmya.\n",
      "\n"
     ]
    }
   ],
   "source": [
    "for x in students:\n",
    "    print(f\"keep up the good work , {x}\")\n",
    "    print(f\"do submit your work of today as well, {x}.\\n\")"
   ]
  },
  {
   "cell_type": "code",
   "execution_count": 13,
   "id": "86758733-2b3e-4dec-8bce-850a0e253342",
   "metadata": {},
   "outputs": [
    {
     "name": "stdout",
     "output_type": "stream",
     "text": [
      "keep up the good work , danish\n",
      "do submit your work of today as well, danish.\n",
      "\n",
      "keep up the good work , kumar\n",
      "do submit your work of today as well, kumar.\n",
      "\n",
      "keep up the good work , naveen\n",
      "do submit your work of today as well, naveen.\n",
      "\n",
      "keep up the good work , taniya\n",
      "do submit your work of today as well, taniya.\n",
      "\n",
      "keep up the good work , likitha\n",
      "do submit your work of today as well, likitha.\n",
      "\n",
      "keep up the good work , sowmya\n",
      "do submit your work of today as well, sowmya.\n",
      "\n",
      "thank you all for joining python sessions.\n"
     ]
    }
   ],
   "source": [
    "for x in students:\n",
    "    print(f\"keep up the good work , {x}\")\n",
    "    print(f\"do submit your work of today as well, {x}.\\n\")#inside of the loop\n",
    "print(\"thank you all for joining python sessions.\")#out of the loop"
   ]
  },
  {
   "cell_type": "markdown",
   "id": "96fb6a5c-1a7c-4eb1-9cb8-c9f36810994f",
   "metadata": {},
   "source": []
  },
  {
   "cell_type": "markdown",
   "id": "dff8b54c-50ec-447d-8538-3d2eabe0478f",
   "metadata": {},
   "source": [
    "#INTRODUCTTION TO DICTIONARY DATATYPE "
   ]
  },
  {
   "cell_type": "markdown",
   "id": "7802eb6f-d2da-470e-9521-c8556a8fa1a1",
   "metadata": {},
   "source": [
    "DEFINITION : DICTIONARY IS COMBINATION OF KEY VALUE PAIRS .\n",
    "CLASSIFICATION: IT IS CLASSIFIED AS A MUTABLE DATATYPE.\n",
    "HOW TO CREATE A DICTIONARY ===>  { }"
   ]
  },
  {
   "cell_type": "code",
   "execution_count": 14,
   "id": "92ac2766-5c0c-4dbe-8fbd-4e70479b521d",
   "metadata": {},
   "outputs": [],
   "source": [
    "#REQ FOR SAMPLE DICTIONARY\n"
   ]
  },
  {
   "cell_type": "code",
   "execution_count": 15,
   "id": "c46619e2-b92c-4b5e-a613-e45231f744c3",
   "metadata": {},
   "outputs": [],
   "source": [
    "alien={'color':'green','points':5}"
   ]
  },
  {
   "cell_type": "code",
   "execution_count": 16,
   "id": "33259f68-9d14-47dc-95ad-02842b644f5c",
   "metadata": {},
   "outputs": [
    {
     "name": "stdout",
     "output_type": "stream",
     "text": [
      "{'color': 'green', 'points': 5}\n"
     ]
    }
   ],
   "source": [
    "print(alien)"
   ]
  },
  {
   "cell_type": "code",
   "execution_count": 17,
   "id": "8575f31a-1e38-435d-a8ab-62f1155fc712",
   "metadata": {},
   "outputs": [
    {
     "data": {
      "text/plain": [
       "dict"
      ]
     },
     "execution_count": 17,
     "metadata": {},
     "output_type": "execute_result"
    }
   ],
   "source": [
    "type(alien)"
   ]
  },
  {
   "cell_type": "code",
   "execution_count": 18,
   "id": "ae5470db-0249-4f9c-8881-3af1ea1347d6",
   "metadata": {},
   "outputs": [],
   "source": [
    "#REQ TO ADD LEVEL IN alien DICTIONARY"
   ]
  },
  {
   "cell_type": "code",
   "execution_count": 19,
   "id": "21948aa2-772d-4d64-8df9-3587c7196890",
   "metadata": {},
   "outputs": [],
   "source": [
    "alien['level']='level-1'"
   ]
  },
  {
   "cell_type": "code",
   "execution_count": 20,
   "id": "aefcb22b-844e-4761-80c0-1da66e8335e1",
   "metadata": {},
   "outputs": [
    {
     "name": "stdout",
     "output_type": "stream",
     "text": [
      "{'color': 'green', 'points': 5, 'level': 'level-1'}\n"
     ]
    }
   ],
   "source": [
    "print(alien)"
   ]
  },
  {
   "cell_type": "code",
   "execution_count": 21,
   "id": "76597890-f126-45df-aa93-3552caae6ded",
   "metadata": {},
   "outputs": [
    {
     "name": "stdout",
     "output_type": "stream",
     "text": [
      "green\n"
     ]
    }
   ],
   "source": [
    "print(alien['color'])  #give key get value"
   ]
  },
  {
   "cell_type": "code",
   "execution_count": 22,
   "id": "cf0f16f7-bcdb-45d8-b2ef-9af648c75c85",
   "metadata": {},
   "outputs": [
    {
     "name": "stdout",
     "output_type": "stream",
     "text": [
      "5\n"
     ]
    }
   ],
   "source": [
    "print(alien['points'])  #give key get value"
   ]
  },
  {
   "cell_type": "code",
   "execution_count": 23,
   "id": "c0f14548-99c5-4fa3-9d06-817cc63f8c1b",
   "metadata": {},
   "outputs": [],
   "source": [
    "#keys are acting like indexes"
   ]
  },
  {
   "cell_type": "code",
   "execution_count": 24,
   "id": "d8e5f59a-dfab-4905-85a2-47d31d02670d",
   "metadata": {},
   "outputs": [],
   "source": [
    "#not possible to give the value and get the key "
   ]
  },
  {
   "cell_type": "code",
   "execution_count": 25,
   "id": "455fdace-8192-4484-97a4-fcf57d0ebdcd",
   "metadata": {},
   "outputs": [
    {
     "ename": "KeyError",
     "evalue": "'green'",
     "output_type": "error",
     "traceback": [
      "\u001b[1;31m---------------------------------------------------------------------------\u001b[0m",
      "\u001b[1;31mKeyError\u001b[0m                                  Traceback (most recent call last)",
      "Cell \u001b[1;32mIn[25], line 1\u001b[0m\n\u001b[1;32m----> 1\u001b[0m \u001b[38;5;28mprint\u001b[39m(alien[\u001b[38;5;124m'\u001b[39m\u001b[38;5;124mgreen\u001b[39m\u001b[38;5;124m'\u001b[39m])\n",
      "\u001b[1;31mKeyError\u001b[0m: 'green'"
     ]
    }
   ],
   "source": [
    "print(alien['green'])"
   ]
  },
  {
   "cell_type": "code",
   "execution_count": null,
   "id": "667d3186-73ec-4e9d-b3d8-e6bb9e57649f",
   "metadata": {},
   "outputs": [],
   "source": [
    "#req : create a user acccount"
   ]
  },
  {
   "cell_type": "code",
   "execution_count": null,
   "id": "8558e4c9-3973-41dc-84a8-2d1b0c20a2d5",
   "metadata": {},
   "outputs": [],
   "source": [
    "user_account={\"username\":\"codetraining\",\"firstname\":\"code\",\"lastname\":\"training\",\"dob\":\"01-01-2020\",\"pwd\":'54321'}"
   ]
  },
  {
   "cell_type": "code",
   "execution_count": null,
   "id": "f61ece44-cb36-405a-ab26-fc7dc9ff75f3",
   "metadata": {},
   "outputs": [],
   "source": [
    "print(user_account)"
   ]
  },
  {
   "cell_type": "code",
   "execution_count": null,
   "id": "a3fdb099-5cac-4865-a695-77a51c762838",
   "metadata": {},
   "outputs": [],
   "source": [
    "#most imp datatype will be asked most in interview "
   ]
  },
  {
   "cell_type": "code",
   "execution_count": null,
   "id": "8216f340-8a6e-462f-b5ee-80f1f7a7280c",
   "metadata": {},
   "outputs": [],
   "source": []
  }
 ],
 "metadata": {
  "kernelspec": {
   "display_name": "Python 3 (ipykernel)",
   "language": "python",
   "name": "python3"
  },
  "language_info": {
   "codemirror_mode": {
    "name": "ipython",
    "version": 3
   },
   "file_extension": ".py",
   "mimetype": "text/x-python",
   "name": "python",
   "nbconvert_exporter": "python",
   "pygments_lexer": "ipython3",
   "version": "3.11.7"
  }
 },
 "nbformat": 4,
 "nbformat_minor": 5
}
