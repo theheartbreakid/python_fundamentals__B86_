{
 "cells": [
  {
   "cell_type": "code",
   "execution_count": null,
   "id": "5a1a818e-c8f4-45b1-b2d6-22366999d75f",
   "metadata": {},
   "outputs": [],
   "source": [
    "contuinuation with string datatype:"
   ]
  },
  {
   "cell_type": "code",
   "execution_count": null,
   "id": "621dd531-62c6-4b0e-8652-2f802ab433ff",
   "metadata": {},
   "outputs": [],
   "source": []
  },
  {
   "cell_type": "code",
   "execution_count": null,
   "id": "e63ca341-e305-472a-b27e-bca1e11599d1",
   "metadata": {},
   "outputs": [],
   "source": [
    "understanding the concept of f strings:"
   ]
  },
  {
   "cell_type": "code",
   "execution_count": null,
   "id": "cd88621e-f46f-4907-b6ad-946199c46f0d",
   "metadata": {},
   "outputs": [],
   "source": [
    "# genral syntax for f strings:"
   ]
  },
  {
   "cell_type": "code",
   "execution_count": null,
   "id": "3ec6264d-934d-41d7-878f-cc84ae57d92c",
   "metadata": {},
   "outputs": [],
   "source": [
    "f\"custom message {place_holder_1} {place_holder_2}....{place_holder_n}\""
   ]
  },
  {
   "cell_type": "code",
   "execution_count": 1,
   "id": "2044ca17-cbc3-49e1-806c-c5043f318292",
   "metadata": {},
   "outputs": [],
   "source": [
    "first_name = \"amir\"\n",
    "last_name = \"khan\""
   ]
  },
  {
   "cell_type": "code",
   "execution_count": null,
   "id": "debf67e9-6adc-4945-9bc5-a687638768bf",
   "metadata": {},
   "outputs": [],
   "source": [
    "#req i want to get the full name..........?"
   ]
  },
  {
   "cell_type": "code",
   "execution_count": 4,
   "id": "55fae57b-d3fc-493e-9ded-8d51a2055cca",
   "metadata": {},
   "outputs": [
    {
     "name": "stdout",
     "output_type": "stream",
     "text": [
      "amir khan\n"
     ]
    }
   ],
   "source": [
    "full_name = f\"{first_name} {last_name}\"\n",
    "print(full_name)"
   ]
  },
  {
   "cell_type": "code",
   "execution_count": 5,
   "id": "8ca774eb-8991-4428-953f-44fe9e19b4e0",
   "metadata": {},
   "outputs": [
    {
     "name": "stdout",
     "output_type": "stream",
     "text": [
      "Amir Khan\n"
     ]
    }
   ],
   "source": [
    "print(full_name.title()) "
   ]
  },
  {
   "cell_type": "code",
   "execution_count": 8,
   "id": "eda1f9b4-72e5-4b5f-89eb-f35cbd3f96f5",
   "metadata": {},
   "outputs": [
    {
     "name": "stdout",
     "output_type": "stream",
     "text": [
      "keep up the good work Amir Khan\n"
     ]
    }
   ],
   "source": [
    "message = f\"keep up the good work {full_name.title()}\" \n",
    "print(message)"
   ]
  },
  {
   "cell_type": "code",
   "execution_count": null,
   "id": "d7e4093b-18b7-44c1-b11e-311a3aa37438",
   "metadata": {},
   "outputs": [],
   "source": []
  },
  {
   "cell_type": "code",
   "execution_count": null,
   "id": "f7bfb8dc-91c0-45ab-9f86-1bc6e4f385d3",
   "metadata": {},
   "outputs": [],
   "source": [
    "Adding whitespaces to strings:"
   ]
  },
  {
   "cell_type": "code",
   "execution_count": 9,
   "id": "a78a30a1-5af7-4ec5-b6ea-84a7e477c619",
   "metadata": {},
   "outputs": [
    {
     "name": "stdout",
     "output_type": "stream",
     "text": [
      "favourite_programming Langauge: pythonjavac++swiftcobalpascal\n"
     ]
    }
   ],
   "source": [
    "print(\"favourite_programming Langauge: pythonjavac++swiftcobalpascal\")"
   ]
  },
  {
   "cell_type": "code",
   "execution_count": 12,
   "id": "083487a7-e0d6-47f7-9f84-ede6fce97fed",
   "metadata": {},
   "outputs": [
    {
     "name": "stdout",
     "output_type": "stream",
     "text": [
      "favourite_programming langauge: \n",
      "python\n",
      "java\n",
      "c++\n",
      "swift\n",
      "cobal\n",
      "pascal\n"
     ]
    }
   ],
   "source": [
    "print(\"favourite_programming langauge: \\npython\\njava\\nc++\\nswift\\ncobal\\npascal\") "
   ]
  },
  {
   "cell_type": "code",
   "execution_count": 14,
   "id": "1766d882-1a58-4a01-9a6b-6683736dc5f8",
   "metadata": {},
   "outputs": [
    {
     "name": "stdout",
     "output_type": "stream",
     "text": [
      "favourite_programming langauge: \n",
      "\tpython\n",
      "\tjava\n",
      "\tc++\n",
      "\tswift\n",
      "\tcobal\n",
      "\tpascal\n"
     ]
    }
   ],
   "source": [
    "print(\"favourite_programming langauge: \\n\\tpython\\n\\tjava\\n\\tc++\\n\\tswift\\n\\tcobal\\n\\tpascal\") "
   ]
  },
  {
   "cell_type": "code",
   "execution_count": null,
   "id": "d831f2c1-bd43-4238-af68-e99987e39641",
   "metadata": {},
   "outputs": [],
   "source": []
  },
  {
   "cell_type": "code",
   "execution_count": null,
   "id": "df0b580c-ea37-47f9-bec3-06700b34b5d6",
   "metadata": {},
   "outputs": [],
   "source": [
    "import this"
   ]
  },
  {
   "cell_type": "markdown",
   "id": "ca9eb91b-e846-4328-aba8-1beb34d4942f",
   "metadata": {},
   "source": [
    "The Zen of Python, by Tim Peters.\n",
    "\n",
    "    \n",
    "Beautiful is better than ugly.\n",
    "Explicit is better than implicit. \n",
    "Simple is better than complex.\n",
    "Complex is better than complicated,\n",
    "Flat is better than nested.\n",
    "Sparse is better than dense.\n",
    "Readability counts.\n",
    "Special cases arent special enough to break the rules.\n",
    "Although practicality beats purity.\n",
    "Errors should never pass silently. \n",
    "Unless explicitly silenced.\n",
    "In the face of ambiguity, refuse the temptation to guess. \n",
    "There should be one--- and preferably only one ---obvious way to do it.\n",
    "Although that way may not be obvious at first unless you're Dutch.\n",
    "Now is better than never.\n",
    "Although never is often better than \"right\"\" now.\n",
    "If the implementation is hard to explain, its a bad idea..\n",
    "If the implementation is easy to explain, it may be a good idea..\n",
    "Namespaces are one honking great idea let's do more of those!"
   ]
  },
  {
   "cell_type": "code",
   "execution_count": null,
   "id": "4d3bde10-9a35-4de5-bc2e-c5a9da3645c9",
   "metadata": {},
   "outputs": [],
   "source": []
  },
  {
   "cell_type": "code",
   "execution_count": null,
   "id": "22c09669-b5e4-49f2-872b-2bc3304145e0",
   "metadata": {},
   "outputs": [],
   "source": [
    "Removing whitespaces from the string :"
   ]
  },
  {
   "cell_type": "code",
   "execution_count": 16,
   "id": "6c4f177a-1760-436a-b71f-981308ed38b9",
   "metadata": {},
   "outputs": [
    {
     "name": "stdout",
     "output_type": "stream",
     "text": [
      "   python\n"
     ]
    }
   ],
   "source": [
    "name= \"   python\"\n",
    "print(name)"
   ]
  },
  {
   "cell_type": "code",
   "execution_count": 17,
   "id": "ccd06dd5-f3ff-47f6-9502-25764852bccb",
   "metadata": {},
   "outputs": [
    {
     "name": "stdout",
     "output_type": "stream",
     "text": [
      "python   \n"
     ]
    }
   ],
   "source": [
    "name2=\"python   \"\n",
    "print(name2)"
   ]
  },
  {
   "cell_type": "code",
   "execution_count": 18,
   "id": "0b0d129b-2414-442c-b22d-7d79a20a4eab",
   "metadata": {},
   "outputs": [
    {
     "data": {
      "text/plain": [
       "'python'"
      ]
     },
     "execution_count": 18,
     "metadata": {},
     "output_type": "execute_result"
    }
   ],
   "source": [
    "name.lstrip()"
   ]
  },
  {
   "cell_type": "code",
   "execution_count": 19,
   "id": "51975630-413b-47c0-901f-70aaa03d6243",
   "metadata": {},
   "outputs": [
    {
     "data": {
      "text/plain": [
       "'python'"
      ]
     },
     "execution_count": 19,
     "metadata": {},
     "output_type": "execute_result"
    }
   ],
   "source": [
    "name2.rstrip()"
   ]
  },
  {
   "cell_type": "code",
   "execution_count": 21,
   "id": "cbe0bcdf-9e9d-4b86-8685-03e4aabbfd3e",
   "metadata": {},
   "outputs": [
    {
     "name": "stdout",
     "output_type": "stream",
     "text": [
      "   python   \n"
     ]
    }
   ],
   "source": [
    "name3 = \"   python   \"\n",
    "print(name3)"
   ]
  },
  {
   "cell_type": "code",
   "execution_count": 22,
   "id": "95606e7a-21f1-4b0c-88dc-79d7f4654083",
   "metadata": {},
   "outputs": [
    {
     "data": {
      "text/plain": [
       "'python'"
      ]
     },
     "execution_count": 22,
     "metadata": {},
     "output_type": "execute_result"
    }
   ],
   "source": [
    "name3.strip()"
   ]
  },
  {
   "cell_type": "code",
   "execution_count": null,
   "id": "4a007a90-220c-4791-ad8e-61a06e618cee",
   "metadata": {},
   "outputs": [],
   "source": []
  }
 ],
 "metadata": {
  "kernelspec": {
   "display_name": "Python 3 (ipykernel)",
   "language": "python",
   "name": "python3"
  },
  "language_info": {
   "codemirror_mode": {
    "name": "ipython",
    "version": 3
   },
   "file_extension": ".py",
   "mimetype": "text/x-python",
   "name": "python",
   "nbconvert_exporter": "python",
   "pygments_lexer": "ipython3",
   "version": "3.11.7"
  }
 },
 "nbformat": 4,
 "nbformat_minor": 5
}
