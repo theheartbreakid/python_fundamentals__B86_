{
 "cells": [
  {
   "cell_type": "code",
   "execution_count": 1,
   "id": "113a8896-705e-4a77-b99a-5f6083256bbb",
   "metadata": {},
   "outputs": [
    {
     "name": "stdout",
     "output_type": "stream",
     "text": [
      "hi and welcome all to python fundamentals\n"
     ]
    }
   ],
   "source": [
    "print(\"hi and welcome all to python fundamentals\")"
   ]
  },
  {
   "cell_type": "code",
   "execution_count": null,
   "id": "520711d9-0302-43a9-b03c-404ab3188722",
   "metadata": {},
   "outputs": [],
   "source": []
  }
 ],
 "metadata": {
  "kernelspec": {
   "display_name": "Python 3 (ipykernel)",
   "language": "python",
   "name": "python3"
  },
  "language_info": {
   "codemirror_mode": {
    "name": "ipython",
    "version": 3
   },
   "file_extension": ".py",
   "mimetype": "text/x-python",
   "name": "python",
   "nbconvert_exporter": "python",
   "pygments_lexer": "ipython3",
   "version": "3.11.7"
  }
 },
 "nbformat": 4,
 "nbformat_minor": 5
}
