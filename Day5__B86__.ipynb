{
 "cells": [
  {
   "cell_type": "markdown",
   "id": "d4f89b59-285e-4b71-831f-353547bf3bef",
   "metadata": {},
   "source": [
    "continuation with the list datatype:"
   ]
  },
  {
   "cell_type": "markdown",
   "id": "73b2194a-b956-480f-9ba8-e2f86a62ceec",
   "metadata": {},
   "source": [
    "Organising the list datatype:"
   ]
  },
  {
   "cell_type": "code",
   "execution_count": 1,
   "id": "7a71c2ef-e1d2-4f13-a20a-d2aa061b8454",
   "metadata": {},
   "outputs": [],
   "source": [
    "cars=['kia','maruthi','audi','toyota','benz','suzuki','bmw']"
   ]
  },
  {
   "cell_type": "code",
   "execution_count": 2,
   "id": "9233d7db-2f8c-4dd9-a709-91d56e31f27c",
   "metadata": {},
   "outputs": [
    {
     "name": "stdout",
     "output_type": "stream",
     "text": [
      "['kia', 'maruthi', 'audi', 'toyota', 'benz', 'suzuki', 'bmw']\n"
     ]
    }
   ],
   "source": [
    "print(cars)"
   ]
  },
  {
   "cell_type": "markdown",
   "id": "9c701346-24f0-4fc1-a85b-3c77b8c2a2a1",
   "metadata": {},
   "source": [
    "#organizing in alphabetical order\n",
    "\n",
    "two approach\n",
    "\n",
    "1. temp approach ====>  we will have original order of list declared ===> sorted\n",
    "2. permanent approach ===> all changes made will be applied permanently ==> sort"
   ]
  },
  {
   "cell_type": "code",
   "execution_count": 3,
   "id": "87b8eeae-1e66-448b-b57c-a84128e9ffb4",
   "metadata": {},
   "outputs": [
    {
     "name": "stdout",
     "output_type": "stream",
     "text": [
      "['audi', 'benz', 'bmw', 'kia', 'maruthi', 'suzuki', 'toyota']\n"
     ]
    }
   ],
   "source": [
    "print(sorted(cars)) #alphabetical order"
   ]
  },
  {
   "cell_type": "code",
   "execution_count": 4,
   "id": "baef6637-02ee-4ac0-96b3-80924850c745",
   "metadata": {},
   "outputs": [
    {
     "name": "stdout",
     "output_type": "stream",
     "text": [
      "['kia', 'maruthi', 'audi', 'toyota', 'benz', 'suzuki', 'bmw']\n"
     ]
    }
   ],
   "source": [
    "print(cars) #original order"
   ]
  },
  {
   "cell_type": "code",
   "execution_count": 5,
   "id": "c059cb4b-9f55-43a0-bdb7-1fde2ec9f546",
   "metadata": {},
   "outputs": [],
   "source": [
    "#benz , bmw ===> if same b, b  then next immidiate is checked first e,m so benz is first bmw next"
   ]
  },
  {
   "cell_type": "code",
   "execution_count": 6,
   "id": "8dcf84c0-b978-4715-a42a-9063f00bce92",
   "metadata": {},
   "outputs": [],
   "source": [
    "cars.sort() #permanent approach"
   ]
  },
  {
   "cell_type": "code",
   "execution_count": 7,
   "id": "3f5378bb-4562-4b38-a3a7-85900c332f2f",
   "metadata": {},
   "outputs": [
    {
     "name": "stdout",
     "output_type": "stream",
     "text": [
      "['audi', 'benz', 'bmw', 'kia', 'maruthi', 'suzuki', 'toyota']\n"
     ]
    }
   ],
   "source": [
    "print(cars)"
   ]
  },
  {
   "cell_type": "code",
   "execution_count": 8,
   "id": "b5587b80-f307-44ef-b625-d864bf7eeadf",
   "metadata": {},
   "outputs": [],
   "source": [
    "\n",
    "\n",
    "\n",
    "\n",
    "\n",
    "#INTERVIEW QUESTION:  what is diff between sort and sorted method in list....?\n",
    "#ans :  sort is permanent and sorted is temperory "
   ]
  },
  {
   "cell_type": "code",
   "execution_count": 9,
   "id": "7383048a-8523-4c18-915a-b58d70975dc3",
   "metadata": {},
   "outputs": [
    {
     "data": {
      "text/plain": [
       "7"
      ]
     },
     "execution_count": 9,
     "metadata": {},
     "output_type": "execute_result"
    }
   ],
   "source": [
    "len(cars)"
   ]
  },
  {
   "cell_type": "code",
   "execution_count": 10,
   "id": "a18e8687-95a1-496b-bf9a-d8e6cb2de58f",
   "metadata": {},
   "outputs": [],
   "source": [
    "#req: i want to reverse the list ===> Z-A"
   ]
  },
  {
   "cell_type": "code",
   "execution_count": 11,
   "id": "592db391-6a2b-47e7-b8dd-8ed4da1d1a0f",
   "metadata": {},
   "outputs": [],
   "source": [
    "cars.reverse()"
   ]
  },
  {
   "cell_type": "code",
   "execution_count": 12,
   "id": "a8738ec2-c277-4563-83dd-adac86e2cce0",
   "metadata": {},
   "outputs": [
    {
     "name": "stdout",
     "output_type": "stream",
     "text": [
      "['toyota', 'suzuki', 'maruthi', 'kia', 'bmw', 'benz', 'audi']\n"
     ]
    }
   ],
   "source": [
    "print(cars)"
   ]
  },
  {
   "cell_type": "code",
   "execution_count": 13,
   "id": "ae7e54dd-6b72-46c4-9195-60ea1daab951",
   "metadata": {},
   "outputs": [],
   "source": [
    "#SLICING THE LIST DATATYPE"
   ]
  },
  {
   "cell_type": "code",
   "execution_count": 14,
   "id": "60123f5c-33f8-493d-8ca4-cb3a221781b5",
   "metadata": {},
   "outputs": [],
   "source": [
    "students = ['asha','likitha','naveed','joseph','kiran','murthy']"
   ]
  },
  {
   "cell_type": "code",
   "execution_count": 15,
   "id": "b60c7b5f-38b8-48d8-b019-b746370f4698",
   "metadata": {},
   "outputs": [],
   "source": [
    "#general syntax of slicing\n",
    "\n",
    "#    [start_value:stop_value:step_count]\n",
    "#     Note: stop us always exclusive to include the stop value increase the index by +1"
   ]
  },
  {
   "cell_type": "code",
   "execution_count": 16,
   "id": "919bd3ac-ceda-4ab9-a425-96ce6c330f4e",
   "metadata": {},
   "outputs": [],
   "source": [
    "#req: i want to include asha and likitha in a slice"
   ]
  },
  {
   "cell_type": "code",
   "execution_count": 17,
   "id": "420c1acd-c0b6-46e6-aa72-6cbd011e5e32",
   "metadata": {},
   "outputs": [
    {
     "name": "stdout",
     "output_type": "stream",
     "text": [
      "['asha']\n"
     ]
    }
   ],
   "source": [
    "print(students[0:1])"
   ]
  },
  {
   "cell_type": "code",
   "execution_count": 18,
   "id": "7b073cc0-8b71-43ce-a077-aebe141fe2ee",
   "metadata": {},
   "outputs": [
    {
     "name": "stdout",
     "output_type": "stream",
     "text": [
      "['asha', 'likitha']\n"
     ]
    }
   ],
   "source": [
    "print(students[0:2])"
   ]
  },
  {
   "cell_type": "code",
   "execution_count": 19,
   "id": "9d068015-47ab-4f87-a4cf-e4b5d70668ee",
   "metadata": {},
   "outputs": [],
   "source": [
    "#for naveed and joseph"
   ]
  },
  {
   "cell_type": "code",
   "execution_count": 20,
   "id": "f14b8784-d19a-410a-99a1-5bc83a3ff8bb",
   "metadata": {},
   "outputs": [
    {
     "name": "stdout",
     "output_type": "stream",
     "text": [
      "['naveed', 'joseph']\n"
     ]
    }
   ],
   "source": [
    "print(students[2:4])"
   ]
  },
  {
   "cell_type": "code",
   "execution_count": 21,
   "id": "c8fc9119-c103-4cfc-9b8f-29e7cfb22e23",
   "metadata": {},
   "outputs": [
    {
     "name": "stdout",
     "output_type": "stream",
     "text": [
      "['kiran', 'murthy']\n"
     ]
    }
   ],
   "source": [
    "print(students[4:6])"
   ]
  },
  {
   "cell_type": "code",
   "execution_count": 22,
   "id": "f1f55909-4113-4a19-8bd3-7c356f8c0590",
   "metadata": {},
   "outputs": [],
   "source": [
    "\n",
    "#step count"
   ]
  },
  {
   "cell_type": "code",
   "execution_count": 23,
   "id": "e32a2960-1fe7-41b0-b48d-3499a1a2a417",
   "metadata": {},
   "outputs": [
    {
     "name": "stdout",
     "output_type": "stream",
     "text": [
      "['asha', 'naveed', 'kiran']\n"
     ]
    }
   ],
   "source": [
    "print(students[0:6:2])"
   ]
  },
  {
   "cell_type": "code",
   "execution_count": null,
   "id": "16b35671-2deb-4f44-b5d7-53e77e21e3e6",
   "metadata": {},
   "outputs": [],
   "source": []
  },
  {
   "cell_type": "code",
   "execution_count": null,
   "id": "4da96ed7-cf70-4afb-8b88-c239483ce316",
   "metadata": {},
   "outputs": [],
   "source": []
  },
  {
   "cell_type": "code",
   "execution_count": null,
   "id": "7fa8f1d2-1adc-4edc-a8b1-46fb0a8592bd",
   "metadata": {},
   "outputs": [],
   "source": []
  }
 ],
 "metadata": {
  "kernelspec": {
   "display_name": "Python 3 (ipykernel)",
   "language": "python",
   "name": "python3"
  },
  "language_info": {
   "codemirror_mode": {
    "name": "ipython",
    "version": 3
   },
   "file_extension": ".py",
   "mimetype": "text/x-python",
   "name": "python",
   "nbconvert_exporter": "python",
   "pygments_lexer": "ipython3",
   "version": "3.11.7"
  }
 },
 "nbformat": 4,
 "nbformat_minor": 5
}
