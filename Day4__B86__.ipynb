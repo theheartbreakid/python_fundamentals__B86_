{
 "cells": [
  {
   "cell_type": "code",
   "execution_count": 1,
   "id": "8bb13f63-d37c-40c0-bfc8-8e45f49d0fc0",
   "metadata": {},
   "outputs": [],
   "source": [
    "#introduction to list datatype:\n",
    "#defination: A list is a collection of items declared in a particular order. \n",
    "#classification it is classified as an mutable datatype (flexible which can be edited) how to define the list datatype: []"
   ]
  },
  {
   "cell_type": "code",
   "execution_count": 2,
   "id": "1953ccf3-8cf4-4a22-a86a-e0c540fc0965",
   "metadata": {},
   "outputs": [],
   "source": [
    "students= ['likitha', 'keerthi', 'naveed', 'umar', 'santosh', 'joseph'] "
   ]
  },
  {
   "cell_type": "code",
   "execution_count": 3,
   "id": "7c954f71-1c94-4096-80f8-571e7c93cafe",
   "metadata": {},
   "outputs": [
    {
     "name": "stdout",
     "output_type": "stream",
     "text": [
      "['likitha', 'keerthi', 'naveed', 'umar', 'santosh', 'joseph']\n"
     ]
    }
   ],
   "source": [
    "print(students)"
   ]
  },
  {
   "cell_type": "code",
   "execution_count": 4,
   "id": "96fd4c84-3a0f-4822-98d1-32129214e565",
   "metadata": {},
   "outputs": [
    {
     "data": {
      "text/plain": [
       "list"
      ]
     },
     "execution_count": 4,
     "metadata": {},
     "output_type": "execute_result"
    }
   ],
   "source": [
    "type(students)"
   ]
  },
  {
   "cell_type": "code",
   "execution_count": 5,
   "id": "e0f35e1d-34e3-4a24-9a49-a6659d78c7e8",
   "metadata": {},
   "outputs": [],
   "source": [
    "#understanding the concept of indexing 0,1,2,3,4......\n",
    "#req: i want to access the name of likitha on the output....?\n"
   ]
  },
  {
   "cell_type": "code",
   "execution_count": 6,
   "id": "805b0185-00d3-4a57-a4f3-68a8e6e6efd4",
   "metadata": {},
   "outputs": [
    {
     "name": "stdout",
     "output_type": "stream",
     "text": [
      "likitha\n"
     ]
    }
   ],
   "source": [
    "print(students[0])"
   ]
  },
  {
   "cell_type": "code",
   "execution_count": 7,
   "id": "e45d128d-7bef-4823-a61c-dc82f57b8a54",
   "metadata": {},
   "outputs": [
    {
     "name": "stdout",
     "output_type": "stream",
     "text": [
      "Likitha\n"
     ]
    }
   ],
   "source": [
    "print(students[0].title())"
   ]
  },
  {
   "cell_type": "code",
   "execution_count": 8,
   "id": "c3b91d99-d6be-4cb4-950c-48c17b767442",
   "metadata": {},
   "outputs": [],
   "source": [
    "# 1.how to add new elements to the list ...?\n",
    "# 2.how to modify the elements in the list...?\n",
    "# 3.how to delete the elements in the list...?"
   ]
  },
  {
   "cell_type": "code",
   "execution_count": 9,
   "id": "9f818a7f-1750-43be-95b6-b290cd425f29",
   "metadata": {},
   "outputs": [],
   "source": [
    "#req 2 want to add babji to the list above..."
   ]
  },
  {
   "cell_type": "code",
   "execution_count": 10,
   "id": "3cee4613-6d58-446c-b511-ef254e21296a",
   "metadata": {},
   "outputs": [],
   "source": [
    "students.append('babji')"
   ]
  },
  {
   "cell_type": "code",
   "execution_count": 11,
   "id": "819193cb-9c38-4b66-ac6d-1da48a53363e",
   "metadata": {},
   "outputs": [
    {
     "name": "stdout",
     "output_type": "stream",
     "text": [
      "['likitha', 'keerthi', 'naveed', 'umar', 'santosh', 'joseph', 'babji']\n"
     ]
    }
   ],
   "source": [
    "print(students)"
   ]
  },
  {
   "cell_type": "code",
   "execution_count": 12,
   "id": "6c1814f9-5185-4d96-b215-c6837cb3f3fb",
   "metadata": {},
   "outputs": [],
   "source": [
    "#req i want to add Manju to the list above...."
   ]
  },
  {
   "cell_type": "code",
   "execution_count": 13,
   "id": "e83b1d05-55a1-4b29-a589-a659bdc364c4",
   "metadata": {},
   "outputs": [],
   "source": [
    "students.append(\"manju\")"
   ]
  },
  {
   "cell_type": "code",
   "execution_count": 14,
   "id": "e8cc5d04-e6c2-4e93-876b-37c5a0c03986",
   "metadata": {},
   "outputs": [
    {
     "name": "stdout",
     "output_type": "stream",
     "text": [
      "['likitha', 'keerthi', 'naveed', 'umar', 'santosh', 'joseph', 'babji', 'manju']\n"
     ]
    }
   ],
   "source": [
    "print(students)\n"
   ]
  },
  {
   "cell_type": "code",
   "execution_count": 15,
   "id": "7eeab6b2-01d7-44e8-ac2d-e3ece6cdbc76",
   "metadata": {},
   "outputs": [],
   "source": [
    "#req: i want to add mariya to the 2nd index...?"
   ]
  },
  {
   "cell_type": "code",
   "execution_count": 16,
   "id": "a3a40fe8-c2fd-463f-981c-40e925794d85",
   "metadata": {},
   "outputs": [],
   "source": [
    "students.insert(2, 'mariya')"
   ]
  },
  {
   "cell_type": "code",
   "execution_count": 17,
   "id": "7ec861fd-2bae-4449-a008-6ce2fb96c374",
   "metadata": {},
   "outputs": [
    {
     "name": "stdout",
     "output_type": "stream",
     "text": [
      "['likitha', 'keerthi', 'mariya', 'naveed', 'umar', 'santosh', 'joseph', 'babji', 'manju']\n"
     ]
    }
   ],
   "source": [
    "print(students)"
   ]
  },
  {
   "cell_type": "code",
   "execution_count": 18,
   "id": "eb2bc4dd-e177-4f74-906b-21e2cb7f5acd",
   "metadata": {},
   "outputs": [
    {
     "name": "stdout",
     "output_type": "stream",
     "text": [
      "mariya\n"
     ]
    }
   ],
   "source": [
    "print(students[2])"
   ]
  },
  {
   "cell_type": "code",
   "execution_count": 19,
   "id": "bca73835-6de9-4409-8bb6-5ae16feb368e",
   "metadata": {},
   "outputs": [],
   "source": [
    "#nterview_question: what is the diff btw append and insert method in a list?"
   ]
  },
  {
   "cell_type": "code",
   "execution_count": 20,
   "id": "e2e22389-c02c-4325-b2ad-c3a5c7af6ba5",
   "metadata": {},
   "outputs": [
    {
     "name": "stdout",
     "output_type": "stream",
     "text": [
      "['likitha', 'keerthi', 'mariya', 'naveed', 'umar', 'santosh', 'joseph', 'babji', 'manju']\n"
     ]
    }
   ],
   "source": [
    " print(students)"
   ]
  },
  {
   "cell_type": "code",
   "execution_count": 21,
   "id": "77d08223-b3e1-4ae9-b42b-c2465f8f4305",
   "metadata": {},
   "outputs": [],
   "source": [
    "#req i want to modify keerthi name to karthik"
   ]
  },
  {
   "cell_type": "code",
   "execution_count": 22,
   "id": "7f46e57e-a5f0-448d-86d9-676517a2057a",
   "metadata": {},
   "outputs": [],
   "source": [
    "students[1] = 'karthik'"
   ]
  },
  {
   "cell_type": "code",
   "execution_count": 23,
   "id": "f0dad87b-16a4-48b2-b17f-0107c60feb8f",
   "metadata": {},
   "outputs": [
    {
     "name": "stdout",
     "output_type": "stream",
     "text": [
      "['likitha', 'karthik', 'mariya', 'naveed', 'umar', 'santosh', 'joseph', 'babji', 'manju']\n"
     ]
    }
   ],
   "source": [
    " print(students)"
   ]
  },
  {
   "cell_type": "code",
   "execution_count": 24,
   "id": "fcd6d767-8bdb-4acf-b231-c29149b0c1c8",
   "metadata": {},
   "outputs": [],
   "source": [
    "#req i want to delete naveed in the above List?"
   ]
  },
  {
   "cell_type": "code",
   "execution_count": 25,
   "id": "a52607a3-20cc-45cf-aa9a-591d89f0e64d",
   "metadata": {},
   "outputs": [],
   "source": [
    "del students[3]"
   ]
  },
  {
   "cell_type": "code",
   "execution_count": 26,
   "id": "49c9a122-30b5-4257-ae07-46ecc9a74dab",
   "metadata": {},
   "outputs": [
    {
     "name": "stdout",
     "output_type": "stream",
     "text": [
      "['likitha', 'karthik', 'mariya', 'umar', 'santosh', 'joseph', 'babji', 'manju']\n"
     ]
    }
   ],
   "source": [
    " print(students)"
   ]
  },
  {
   "cell_type": "code",
   "execution_count": null,
   "id": "89d50c31-0a5e-4540-8594-704e81d146ab",
   "metadata": {},
   "outputs": [],
   "source": []
  }
 ],
 "metadata": {
  "kernelspec": {
   "display_name": "Python 3 (ipykernel)",
   "language": "python",
   "name": "python3"
  },
  "language_info": {
   "codemirror_mode": {
    "name": "ipython",
    "version": 3
   },
   "file_extension": ".py",
   "mimetype": "text/x-python",
   "name": "python",
   "nbconvert_exporter": "python",
   "pygments_lexer": "ipython3",
   "version": "3.11.7"
  }
 },
 "nbformat": 4,
 "nbformat_minor": 5
}
